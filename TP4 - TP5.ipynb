{
 "cells": [
  {
   "cell_type": "markdown",
   "metadata": {
    "toc": true
   },
   "source": [
    "<h1>Table of Contents<span class=\"tocSkip\"></span></h1>\n",
    "<div class=\"toc\"><ul class=\"toc-item\"><li><span><a href=\"#Révisions\" data-toc-modified-id=\"Révisions-1\"><span class=\"toc-item-num\">1&nbsp;&nbsp;</span>Révisions</a></span></li><li><span><a href=\"#Test-d'adéquation-du-$\\chi^2$\" data-toc-modified-id=\"Test-d'adéquation-du-$\\chi^2$-2\"><span class=\"toc-item-num\">2&nbsp;&nbsp;</span>Test d'adéquation du $\\chi^2$</a></span></li><li><span><a href=\"#Test-d'indépendance-du-$\\chi^2$\" data-toc-modified-id=\"Test-d'indépendance-du-$\\chi^2$-3\"><span class=\"toc-item-num\">3&nbsp;&nbsp;</span>Test d'indépendance du $\\chi^2$</a></span></li><li><span><a href=\"#Assimiliation\" data-toc-modified-id=\"Assimiliation-4\"><span class=\"toc-item-num\">4&nbsp;&nbsp;</span>Assimiliation</a></span></li><li><span><a href=\"#Test-d'homogénéité-du-$\\chi^2$\" data-toc-modified-id=\"Test-d'homogénéité-du-$\\chi^2$-5\"><span class=\"toc-item-num\">5&nbsp;&nbsp;</span>Test d'homogénéité du $\\chi^2$</a></span></li><li><span><a href=\"#Test-d'adéquation-de-Kolmogorov-Smirnov\" data-toc-modified-id=\"Test-d'adéquation-de-Kolmogorov-Smirnov-6\"><span class=\"toc-item-num\">6&nbsp;&nbsp;</span>Test d'adéquation de Kolmogorov-Smirnov</a></span></li><li><span><a href=\"#Synthèse---Conclusions-(facultatif)\" data-toc-modified-id=\"Synthèse---Conclusions-(facultatif)-7\"><span class=\"toc-item-num\">7&nbsp;&nbsp;</span>Synthèse - Conclusions (facultatif)</a></span></li></ul></div>"
   ]
  },
  {
   "cell_type": "markdown",
   "metadata": {},
   "source": [
    "Tests non-paramétriques\n",
    "============"
   ]
  },
  {
   "cell_type": "markdown",
   "metadata": {},
   "source": [
    "# Préliminaires"
   ]
  },
  {
   "cell_type": "markdown",
   "metadata": {},
   "source": [
    "Importez le jeu de données \"iris_data.csv\".\n",
    "\n",
    "Présentation :\n",
    "\n",
    "1. sepal length in cm\n",
    "2. sepal width in cm\n",
    "3. petal length in cm\n",
    "4. petal width in cm\n",
    "5. class: Iris-setosa, Iris-versicolor, Iris-virginica.\n",
    "\n",
    "Faites en sorte de pouvoir acceder facilement aux différents attributs, par catégorie ou globalement.\n",
    "Par exemple, vous pouvez faire trois tableaux \"versicolor\",\"virginica\",\"setosa\" contenant chacun les données numériques des iris de la variété."
   ]
  },
  {
   "cell_type": "code",
   "execution_count": 11,
   "metadata": {},
   "outputs": [],
   "source": [
    "import numpy as np\n",
    "\n",
    "file = open(\"iris_data.csv\",\"r\")\n",
    "setosa = np.array([])\n",
    "virginica = np.array([])\n",
    "versicolor = np.array([])\n",
    "for line in file:\n",
    "    liste = line.split(',')\n",
    "    iris_num = np.array(liste[0:4],dtype=float)\n",
    "    iris_name = np.array(liste[4],dtype='U')\n",
    "    if iris_name == \"Iris-setosa\\n\":\n",
    "        setosa = np.concatenate((setosa,iris_num))\n",
    "    if iris_name == \"Iris-virginica\\n\":\n",
    "        virginica = np.concatenate((virginica,iris_num))\n",
    "    if iris_name == \"Iris-versicolor\\n\":\n",
    "        versicolor = np.concatenate((versicolor,iris_num))\n",
    "setosa = np.reshape(setosa,(-1,4))\n",
    "versicolor = np.reshape(versicolor,(-1,4))\n",
    "virginica = np.reshape(virginica,(-1,4))\n",
    "file.close()"
   ]
  },
  {
   "cell_type": "markdown",
   "metadata": {},
   "source": [
    "# TP 4 : Adéquation et indépendance"
   ]
  },
  {
   "cell_type": "markdown",
   "metadata": {},
   "source": [
    "## Révisions"
   ]
  },
  {
   "cell_type": "markdown",
   "metadata": {},
   "source": [
    "Effectuez les calculs suivant :\n",
    "\n",
    "+ La moyenne et l'écart-type de la longueur des sépales, toute catégorie confondue, puis uniquement pour la variété \"virginica\"\n",
    "+ La moyenne et l'écart-type de la longueur des pétales, pour les variétés \"setosa\" et \"versicolor\""
   ]
  },
  {
   "cell_type": "code",
   "execution_count": 12,
   "metadata": {},
   "outputs": [
    {
     "name": "stdout",
     "output_type": "stream",
     "text": [
      "La moyenne de la longueur des sépales de toutes 150  fleures est de 5.843333333333334 cm\n",
      "L'écart-type de la longueur des sépales de toutes 150  fleures est de 0.8253012917851409 cm\n",
      "La moyenne de la longueur des sépales des 50 virginicas est de 6.587999999999998 cm\n",
      "L'écart-type de la longueur des sépales des 50 virginicas est de 0.6294886813914926 cm\n",
      "La moyenne de la longueur des pétales des 50 setosa est de 5.006 cm\n",
      "L'écart-type de la longueur des pétales des 50 setosa est de 0.3489469873777391 cm\n",
      "La moyenne de la longueur des pétales des 50 versicolor est de 5.936 cm\n",
      "L'écart-type de la longueur des pétales des 50 versicolor est de 0.5109833656783751 cm\n"
     ]
    }
   ],
   "source": [
    "tous = np.concatenate((setosa, versicolor, virginica))\n",
    "# La moyenne et l'écart type de la longueur des sépales de tous\n",
    "sepale_avg = np.mean(tous[:,0]);\n",
    "sepale_std = np.std(tous[:,0]);\n",
    "nobs_tous = tous.shape[0];\n",
    "print(\"La moyenne de la longueur des sépales de toutes\", nobs_tous, \" fleures est de\", sepale_avg, \"cm\")\n",
    "print(\"L'écart-type de la longueur des sépales de toutes\", nobs_tous, \" fleures est de\", sepale_std, \"cm\")\n",
    "\n",
    "# La moyenne et l'écart-type de la longueur des sépales de virginica\n",
    "sepale_virginica_avg = np.mean(virginica[:,0])\n",
    "sepale_virginica_std = np.std(virginica[:,0])\n",
    "nobs_virginica = virginica.shape[0]\n",
    "print(\"La moyenne de la longueur des sépales des\", nobs_virginica, \"virginicas est de\", sepale_virginica_avg, \"cm\")\n",
    "print(\"L'écart-type de la longueur des sépales des\", nobs_virginica, \"virginicas est de\", sepale_virginica_std, \"cm\")\n",
    "\n",
    "\n",
    "# La moyenne et l'écart-type de la longueur des pétales des setosa\n",
    "petale_setosa_avg = np.mean(setosa[:,0]);\n",
    "petale_setosa_std = np.std(setosa[:,0]);\n",
    "nobs_setosa = setosa.shape[0]\n",
    "print(\"La moyenne de la longueur des pétales des\", nobs_setosa, \"setosa est de\", petale_setosa_avg, \"cm\")\n",
    "print(\"L'écart-type de la longueur des pétales des\", nobs_setosa, \"setosa est de\", petale_setosa_std, \"cm\")\n",
    "\n",
    "# La moyenne et l'écart-type de la longueur des pétales des versicolor\n",
    "petale_versicolor_avg = np.mean(versicolor[:,0]);\n",
    "petale_versicolor_std = np.std(versicolor[:,0]);\n",
    "nobs_versicolor = versicolor.shape[0]\n",
    "print(\"La moyenne de la longueur des pétales des\", nobs_versicolor, \"versicolor est de\", petale_versicolor_avg, \"cm\")\n",
    "print(\"L'écart-type de la longueur des pétales des\", nobs_versicolor, \"versicolor est de\", petale_versicolor_std, \"cm\")"
   ]
  },
  {
   "cell_type": "markdown",
   "metadata": {},
   "source": [
    "On fait l'hypothèse de normalité pour les grandeurs étudiées, par catégorie et globalement.\n",
    "\n",
    "+ Testez l'égalité de longueur des pétales pour les deux variétés au seuil de $5\\%$\n",
    "+ La variété \"virginica\" a-t-elle une longueur de sépales significativement différente au sein de l'espèce ?"
   ]
  },
  {
   "cell_type": "code",
   "execution_count": 13,
   "metadata": {},
   "outputs": [
    {
     "name": "stdout",
     "output_type": "stream",
     "text": [
      "• On rejette l'hypothèse que les deux variétés ont la même longueur de pétale à 5%\n",
      "• On accepte l'hypothèse que la variété virginica ait une longueur de sépales significativement différente au sein de l'espèce à 5%\n"
     ]
    }
   ],
   "source": [
    "from scipy import stats as st\n",
    "\n",
    "# Testez l'égalité de longueur des pétales pour les deux variétés au seuil de 5%\n",
    "ttest = st.ttest_ind(versicolor[:, 2], setosa[:, 2]);\n",
    "t_H0 = (ttest.pvalue >= 0.05);\n",
    "print(\"• On accepte l'hypothèse que les deux variétés ont la même longueur de pétale à 5%\") if t_H0 else print(\"• On rejette l'hypothèse que les deux variétés ont la même longueur de pétale à 5%\")\n",
    "\n",
    "# La variété \"virginica\" a-t-elle une longueur de sépales significativement différente au sein de l'espèce ?\n",
    "\n",
    "# On suppose que l'écart-type de l'espèce est 0.82\n",
    "# Test de conformité sur la variance\n",
    "\n",
    "ktest2 = (nobs_virginica - 1)*(sepale_virginica_std**2)/(sepale_std**2)\n",
    "k_pvalue = st.chi2.sf(ktest2, nobs_virginica - 1);\n",
    "k_H0 = k_pvalue > 0.05; \n",
    "print(\"• On accepte l'hypothèse que la variété virginica ait une longueur de sépales significativement différente au sein de l'espèce à 5%\") if k_H0 else print(\"• On rejette l'hypothèse que la variété virginica ait une longueur de sépales significativement différente au sein de l'espèce à 5%\")\n",
    "\n"
   ]
  },
  {
   "cell_type": "markdown",
   "metadata": {},
   "source": [
    "## Test d'adéquation du $\\chi^2$"
   ]
  },
  {
   "cell_type": "markdown",
   "metadata": {},
   "source": [
    "*Prononcez \"qi-deux\" ou à la belge \"qi-carré\"*"
   ]
  },
  {
   "cell_type": "markdown",
   "metadata": {},
   "source": [
    "Suivant la vitesse à laquelle vous avancez :\n",
    "\n",
    "+ Lentement : testez la normalité de la longueur des sépales globalement, puis la longueur des pétales pour les \"setosa\"\n",
    "+ Rapidement : testez la normalité des quatres attributs pour les trois variétés et globalement\n",
    "\n",
    "** Le test du $\\chi^2$ requiert des catégories, vous devez les créer vous-même **"
   ]
  },
  {
   "cell_type": "code",
   "execution_count": 14,
   "metadata": {},
   "outputs": [
    {
     "name": "stdout",
     "output_type": "stream",
     "text": [
      "H0: Les mesures de l'échantillon sont adéquates à la distribution normale\n",
      "[sepal_length, sepal width, petal_length, petal_width]\n",
      "chi2_adequation_manual:  [ True  True  True  True]\n",
      "st.chisquare virginica:  [ True  True  True  True]\n",
      "chi2_adequation_manual:  [ True  True  True  True]\n",
      "st.chisquare setosa:  [ True  True  True  True]\n",
      "chi2_adequation_manual:  [ True  True  True  True]\n",
      "st.chisquare versicolor:  [ True  True  True  True]\n",
      "chi2_adequation_manual:  [ True  True  True  True]\n",
      "st.chisquare tous:  [ True  True  True  True]\n"
     ]
    }
   ],
   "source": [
    "# Fonction pour diviser une list en categories-effectifs \n",
    "from IPython.display import HTML, display\n",
    "\n",
    "def evaluer(test):\n",
    "    #print(test)\n",
    "    return (test.pvalue > 0.05)\n",
    "\n",
    "def afficherTable(string, data):\n",
    "    \"\"\"\n",
    "        Synopsis: Afficher le contenu d'une table\n",
    "            • data (array): la liste\n",
    "            • string: le titre\n",
    "    \"\"\"\n",
    "    print(string, '\\n')\n",
    "    display(HTML(\n",
    "            '<table><tr>{}</tr></table>'.format(\n",
    "            '</tr><tr>'.join(\n",
    "                '<td>{}</td>'.format('</td><td>'.join(str(_) for _ in row)) for row in data)\n",
    "            )\n",
    "         ))\n",
    "\n",
    "def categoriser(data, n, axis=None, output=1):\n",
    "    \"\"\"\n",
    "        Synopsis: Categoriser une liste 'data' en 'n' catégories équiprobables (1/n), selon un 'axis'\n",
    "        Parametres: \n",
    "            • data (array): la liste à catégoriser\n",
    "            • axis (int): None - la liste sera traitée comme un tableau 1D \n",
    "            • output (0, 1, 2): 0 - retourner le couple histogram/bins 1 - histogram 2- bins\n",
    "        Return: [historgram, edges] où histogram est l'effectif de chaque catégorie et edges sont les sous intervalles\n",
    "    \"\"\"\n",
    "    if axis==None :\n",
    "        return  np.histogram(data, n) \n",
    "    else:\n",
    "        len = np.shape(data)[axis]\n",
    "        histograms, bins = np.histogram(data[:, 0], n)\n",
    "        for i in range(1, len):\n",
    "            hist, edges = np.histogram(data[:, i], n) #NumPy ez\n",
    "            histograms = np.vstack((histograms, hist)) # Empiler les histogrammes, util pour faire les calculs avec les arrays\n",
    "            bins = np.vstack((bins, edges))\n",
    "            \n",
    "    #afficherTable(\"Histogram: \", histograms)\n",
    "\n",
    "    if output==0: return (histograms, bins)\n",
    "    elif output == 1: return histograms\n",
    "    else: return bins \n",
    "    \n",
    "def expect_gof(data, bins, axis=0): \n",
    "    \"\"\"\n",
    "        Synopsis: Calculer les valeurs attendues en cas de test Chi-2 d'adéquation.\n",
    "    \"\"\"   \n",
    "        \n",
    "    shape = np.shape(bins)\n",
    "    res = np.empty((shape[1]-1, ))\n",
    "    \n",
    "    for r in range (0, shape[0]):\n",
    "        row = bins[r, :]\n",
    "        rrow = []\n",
    "        for c in range (1, row.size):\n",
    "            mean = np.mean(row)\n",
    "            std = np.std(row)\n",
    "            c =  np.sum(data) * (st.norm.sf(row[c], mean, std) - st.norm.sf(row[c-1], mean, std))\n",
    "            rrow = np.hstack((rrow, c))\n",
    "        #print(rrow)\n",
    "        res = np.vstack((res, rrow))\n",
    "    return np.delete(res, 0, axis=0)\n",
    "\n",
    "def chi2_test_manual(f_obs, f_exp, mode=0, ind_mode=None, df=1):\n",
    "    \n",
    "    \"\"\"\n",
    "    Synopsis: faire le test chisquare à la main\n",
    "    + mode: 0 - adequation, 1 - independance\n",
    "    + ind_mode: en cas d'independance, 1 si homogeneité\n",
    "    \"\"\"\n",
    "    shape = np.shape(f_obs)\n",
    "\n",
    "    stat = np.sum(np.power((f_obs-f_exp), 2)/f_exp)\n",
    "    \n",
    "    dl = df\n",
    "    \n",
    "    if mode == 1:\n",
    "        dl = (shape[0] - 1) * (shape[1] - 1) if ind_mode==0 else shape[0]*shape[1]\n",
    "                   \n",
    "    pvalue = st.chi2.sf(stat, dl)    \n",
    "    return stat, pvalue\n",
    "\n",
    "def chi2_adequation_manual(f_obs, f_exp):\n",
    "    \n",
    "    stats = []\n",
    "    pvalues = []\n",
    "    \n",
    "    for i in range(0, 4):\n",
    "        obs = f_obs[:, i]\n",
    "        exp = f_exp[:, i]\n",
    "        stat, pvalue = chi2_test_manual(obs, exp, mode=0, df=f_obs.shape[1]-1)\n",
    "        stats = np.hstack((stats, stat))\n",
    "        pvalues = np.hstack((pvalues, pvalue))\n",
    "    \n",
    "    return stats, pvalues\n",
    "\n",
    "# Le test avec n bins (n >= 5)\n",
    "n_bins = 6\n",
    "\n",
    "# Categoriser\n",
    "virginica_observed, virginica_bins = categoriser(virginica, n_bins, axis=1, output=0)\n",
    "setosa_observed, setosa_bins = categoriser(setosa, n_bins, axis=1, output=0)\n",
    "versicolor_observed, versicolor_bins = categoriser(versicolor, n_bins, axis=1, output=0)\n",
    "total_observed, total_bins = categoriser(tous, n_bins, axis=1, output=0)\n",
    "\n",
    "# np.sum(f_observed, axis=1) = l'effectif total de la variété\n",
    "virginica_expected = expect_gof(virginica_observed, virginica_bins, axis=0)\n",
    "setosa_expected = expect_gof(setosa_observed, setosa_bins, axis=0)\n",
    "versicolor_expected = expect_gof(versicolor_observed, versicolor_bins, axis=0)\n",
    "total_expected = expect_gof(total_observed, total_bins, axis=0)\n",
    "\n",
    "# H0: Les mesures de l'échantillon sont adéquates à la distribution de la population\n",
    "# df = 2\n",
    "# True: accepte H0 à 5%, False: rejetter H0 à 5%\n",
    "\n",
    "print(\"H0: Les mesures de l'échantillon sont adéquates à la distribution normale\")\n",
    "\n",
    "print(\"[sepal_length, sepal width, petal_length, petal_width]\")\n",
    "\n",
    "virginica_ktest = st.chisquare(virginica_observed, virginica_expected, axis=1, ddof=3)\n",
    "virginica_ktest2 = chi2_adequation_manual(virginica_observed, virginica_expected)\n",
    "print(\"chi2_adequation_manual: \", virginica_ktest2[1] > 0.05)\n",
    "print(\"st.chisquare virginica: \", evaluer(virginica_ktest))\n",
    "\n",
    "setosa_ktest = st.chisquare(setosa_observed, setosa_expected, axis=1, ddof=3)\n",
    "setosa_ktest2 = chi2_adequation_manual(setosa_observed, setosa_expected)\n",
    "print(\"chi2_adequation_manual: \", setosa_ktest2[1] > 0.05)\n",
    "print(\"st.chisquare setosa: \", evaluer(setosa_ktest))\n",
    "\n",
    "versicolor_ktest = st.chisquare(versicolor_observed, versicolor_expected, axis=1, ddof=3)\n",
    "versicolor_ktest2 = chi2_adequation_manual(versicolor_observed, versicolor_expected)\n",
    "print(\"chi2_adequation_manual: \", versicolor_ktest2[1] > 0.05)\n",
    "print(\"st.chisquare versicolor: \", evaluer(versicolor_ktest))\n",
    "\n",
    "total_ktest = st.chisquare(total_observed, total_expected, axis=1, ddof=3)\n",
    "total_ktest2 = chi2_adequation_manual(total_observed, total_expected)\n",
    "print(\"chi2_adequation_manual: \", total_ktest2[1] > 0.05)\n",
    "print(\"st.chisquare tous: \", evaluer(total_ktest))\n",
    "\n",
    "\n"
   ]
  },
  {
   "cell_type": "markdown",
   "metadata": {},
   "source": [
    "## Test d'indépendance du $\\chi^2$"
   ]
  },
  {
   "cell_type": "markdown",
   "metadata": {},
   "source": [
    "Etudiez l'indépendance la longueur des sépales et des pétales :\n",
    "\n",
    "+ Créez le tableau de contingence $2$ lignes x $2$ colonnes. Les deux lignes sont \"sépales court\" (critère : inférieur à la moyenne) et \"sépales long\" (les autres). En colonne, même idée pour les pétales. Remplissez le tableau avec les effectifs.\n",
    "\n",
    "    • Exemple avec le tableau de contingence pour la variété SETOSA:\n",
    "    \n",
    "+ Calculez le tableau avec les effectifs théoriques attendus en cas d'indépendance\n",
    "+ Concluez"
   ]
  },
  {
   "cell_type": "code",
   "execution_count": 15,
   "metadata": {},
   "outputs": [],
   "source": [
    "def contingence_1set(data, attributes, mode=\"average\", bins=None):\n",
    "    \"\"\"\n",
    "    Synopsis: Creer la table contingence \n",
    "        + data: les donnéees\n",
    "        + attibutes: les indices des attributs à étudier\n",
    "    \"\"\"\n",
    "    \n",
    "    set1 = data[:,attributes[0]]\n",
    "    set2 = data[:,attributes[1]]\n",
    "    \n",
    "    s_min = np.min(set1)\n",
    "    s_max = np.max(set1)\n",
    "        \n",
    "    p_min = np.min(set2)\n",
    "    p_max = np.max(set2)\n",
    "    \n",
    "    s_bins = bins\n",
    "    p_bins = [p_min, np.mean(set2), p_max]\n",
    "        \n",
    "    if(mode == \"average\"):\n",
    "        s_bins = [s_min, np.mean(set1), s_max]\n",
    "            \n",
    "    elif(mode == \"percentile\"):\n",
    "        s_bins = np.hstack((s_min, np.percentile(set1, (25, 50, 75)), s_max))\n",
    "            \n",
    "    else: \n",
    "        if(bins==None): return None\n",
    "        \n",
    "    c_hist, s_edges, p_edges = np.histogram2d(data[:, attributes[0]], data[:, attributes[1]], bins=(s_bins, p_bins));  \n",
    "    # afficherTable((s_edges, p_edges), c_hist);\n",
    "    return c_hist\n",
    "\n",
    "def contingency_2sets(sets, attribut:int, mode=None, bins=None):\n",
    "    \"\"\"\n",
    "    Synopsis: Creer la table contingence pour le test chi2\n",
    "    - sets: 2 sets à tester\n",
    "    - attribut: l'attribut concerné\n",
    "    - mode: average ou percentile\n",
    "    \"\"\"\n",
    "    \n",
    "    set1 = sets[0] [:,attribut]\n",
    "    set2 = sets[1] [:,attribut]\n",
    "    \n",
    "    s_min = np.min(set1)\n",
    "    s_max = np.max(set1)\n",
    "        \n",
    "    p_min = np.min(set2)\n",
    "    p_max = np.max(set2)\n",
    "    \n",
    "    s_bins = bins\n",
    "    p_bins = [p_min, np.mean(set2), p_max]\n",
    "        \n",
    "    if(mode == \"average\"):\n",
    "        s_bins = [s_min, np.mean(set1), s_max]\n",
    "            \n",
    "    elif(mode == \"percentile\"):\n",
    "        s_bins = np.hstack((s_min, np.percentile(set1, (25, 50, 75)), s_max))\n",
    "            \n",
    "    else:\n",
    "        if(bins == None): return None\n",
    "        \n",
    "    c_hist, s_edges, p_edges = np.histogram2d(set1, set2, bins=(s_bins, p_bins));    \n",
    "    # afficherTable((s_edges, p_edges), c_hist);\n",
    "    return c_hist\n",
    "\n",
    "def chi2_expected(f_obs):\n",
    "    \n",
    "    f_exp = np.empty_like(f_obs)\n",
    "    \n",
    "    hv_sum = np.sum(f_obs);\n",
    "    \n",
    "    shape = np.shape(f_obs)\n",
    "    for r in range(0, shape[0]):\n",
    "        for c in range(0, shape[1]):\n",
    "            h_sum = np.sum(f_obs[r, :])\n",
    "            v_sum = np.sum(f_obs[:, c])\n",
    "            f_exp[r][c] = h_sum*v_sum/hv_sum\n",
    "    \n",
    "    #print(f_exp)\n",
    "    return f_exp\n",
    "\n",
    "def chi2_contingence_manuel(data, test_mode, bin_mode=\"average\", bins=None):\n",
    "    \"\"\"\n",
    "    Synopsis: Faire à la main le test d'indépendance ou d'homogénéité\n",
    "        + data: l'échantillon\n",
    "        + test_mode: 0-independance, 1-homogeneite\n",
    "        + bin_mode: \"average\" - \"percentile\" - None\n",
    "    \"\"\"\n",
    "    \n",
    "    stats = []\n",
    "    pvalues = []\n",
    "    \n",
    "    if(test_mode==0):\n",
    "        f_obs = contingence_1set(data, (0, 2), bin_mode, bins)\n",
    "        f_exp = chi2_expected(f_obs)\n",
    "        stats = np.sum(np.power((f_obs-f_exp), 2)/f_exp)\n",
    "        shape = np.shape(f_obs)\n",
    "        df = (shape[0] - 1) * (shape[1] - 1) if test_mode==0 else shape[0]*shape[1]\n",
    "        pvalues = st.chi2.sf(stats, df)\n",
    "        \n",
    "    else:\n",
    "        for attribut in range(0, 4):\n",
    "            f_obs = contingency_2sets(data, attribut, bin_mode, bins)\n",
    "            f_exp = chi2_expected(f_obs)\n",
    "            \n",
    "            stat, pvalue = chi2_test_manual(f_obs, f_exp, mode=1, ind_mode=test_mode)\n",
    "\n",
    "            stats = np.hstack((stats, stat))\n",
    "            pvalues = np.hstack((pvalues, pvalue))\n",
    "        \n",
    "    print(\"stats: \", stats)\n",
    "    print(\"pvalues: \", pvalues)\n",
    "        \n",
    "    return (stats, pvalues)"
   ]
  },
  {
   "cell_type": "code",
   "execution_count": 16,
   "metadata": {},
   "outputs": [
    {
     "name": "stdout",
     "output_type": "stream",
     "text": [
      "stats:  80.4435483870968\n",
      "pvalues:  2.991296292911805e-19\n",
      "[sepal_length, sepal width, petal_length, petal_width]\n",
      "pvalue en test manuel:  2.991296292911805e-19\n",
      "1.362784516029828e-18\n",
      "On rejette l'hypothese que la longueur des sépales et des pétales est indépendante à 5%\n"
     ]
    }
   ],
   "source": [
    "c_observed = contingence_1set(tous, (0, 2), \"average\");\n",
    "c_ktest = st.chi2_contingency(c_observed)\n",
    "c_ktest2 = chi2_contingence_manuel(tous, test_mode=0, bin_mode=\"average\")\n",
    "\n",
    "print(\"[sepal_length, sepal width, petal_length, petal_width]\")\n",
    "\n",
    "print(\"pvalue en test manuel: \", c_ktest2[1])\n",
    "\n",
    "print(c_ktest[1])\n",
    "print(\"On accepte l'hypothese que la longueur des sépales et des pétales est indépendante à 5%\") if (c_ktest[1] > 0.05) else print(\"On rejette l'hypothese que la longueur des sépales et des pétales est indépendante à 5%\")\n",
    "\n",
    "# H0: la longueur des sépales et des pétales est indépendante\n",
    "# True: accepte H0 à 5%, False: rejetter H0 à 5%\n",
    "\n",
    "\n"
   ]
  },
  {
   "cell_type": "markdown",
   "metadata": {},
   "source": [
    "## Assimiliation"
   ]
  },
  {
   "cell_type": "markdown",
   "metadata": {},
   "source": [
    "Dans le tableau précédent, remplacez les $2$ lignes par $4$ lignes où les catégories sont \"inférieur à $Q_1$\", \"entre $Q_1$ et la médiane\", \"entre la médiane et $Q_3$\" et \"supérieur à $Q_3$\" où $Q_1$ signifie premier quartile et $Q_3$ désigne $\\ldots$ le troisième."
   ]
  },
  {
   "cell_type": "code",
   "execution_count": 17,
   "metadata": {},
   "outputs": [
    {
     "name": "stdout",
     "output_type": "stream",
     "text": [
      "stats:  7.324277976451891\n",
      "pvalues:  0.06224963044906766\n",
      "[sepal_length, sepal width, petal_length, petal_width]\n",
      "pvalues en test manuel:  0.06224963044906766\n",
      "0.06224963044906766\n",
      "On accepte l'hypothese que la longueur des sépales et des pétales est indépendante à 5%\n"
     ]
    }
   ],
   "source": [
    "#H0: la longueur des sépales et des pétales est indépendante\n",
    "# True: accepte H0 à 5%, False: rejetter H0 à 5%\n",
    "\n",
    "q_observed = contingence_1set(setosa, (0, 2), \"percentile\");\n",
    "q_ktest = st.chi2_contingency(q_observed)\n",
    "q_ktest2 = chi2_contingence_manuel(setosa, test_mode=0, bin_mode=\"percentile\")\n",
    "\n",
    "print(\"[sepal_length, sepal width, petal_length, petal_width]\")\n",
    "\n",
    "print(\"pvalues en test manuel: \", q_ktest2[1])\n",
    "\n",
    "print(q_ktest[1])\n",
    "print(\"On accepte l'hypothese que la longueur des sépales et des pétales est indépendante à 5%\") if (q_ktest[1] > 0.05) else print(\"On rejette l'hypothese que la longueur des sépales et des pétales est indépendante à 5%\")"
   ]
  },
  {
   "cell_type": "markdown",
   "metadata": {},
   "source": [
    "# TP5 : Homogénéité et Adéquation"
   ]
  },
  {
   "cell_type": "markdown",
   "metadata": {},
   "source": [
    "## Test d'homogénéité du $\\chi^2$"
   ]
  },
  {
   "cell_type": "markdown",
   "metadata": {},
   "source": [
    "Sur le modèle des tests d'indépendance du TP précédent (soit $2$ catégories avec la moyenne, soit $4$ catégories avec les quartiles), testez si l'un des attributs permet de conclure à une inhomogénéité entre les variétés \"virginica\" et \"versicolor\".\n",
    "\n",
    "Vous pouvez faire un tableau de contingence avec $2$ colonnes (\"virginica\" et \"versicolor\") et $2$ ou $4$ lignes; remplissez avec les effectifs et $\\ldots$ en avant Guimgamp !\n",
    "\n",
    "V4\n",
    "+ Vos deux populations : `versicolor` et `virginica`\n",
    "+ Votre caractère : `sepal width` (colonne 2, indice 1)\n",
    "+ Le minimum : $2.0$, le maximum : $3.8$\n",
    "+ Vous faites $6$ catégories : $\\lbrack 2.0,2.3 \\rbrack$,$\\lbrack 2.3,2.6 \\rbrack$,\n",
    "$\\lbrack 2.6,2.9 \\rbrack$,$\\lbrack 2.9,3.2 \\rbrack$,$\\lbrack 3.2,3.5 \\rbrack$,$\\lbrack 3.5,3.8 \\rbrack$\n",
    "+ Vous calculez les effectifs *observés*, *théoriques*\n",
    "+ Puis vous mettez en place votre test."
   ]
  },
  {
   "cell_type": "code",
   "execution_count": 18,
   "metadata": {},
   "outputs": [
    {
     "name": "stdout",
     "output_type": "stream",
     "text": [
      "H0: chaque variété iris a le meme proportion d'observations pour chaque attribut. True: accept à 5%\n",
      "stats:  [0.7913961  0.01091994 0.72463768 0.25304808]\n",
      "pvalues:  [0.9395978  0.99998515 0.9482562  0.99264   ]\n",
      "[sepal_length, sepal width, petal_length, petal_width]\n",
      "Test manuel:  [ True  True  True  True]\n",
      "Test avec bins:  [ True  True  True  True]\n",
      "Test avec les moyennes:  [ True  True  True  True]\n",
      "Test avec les quartiles:  [ True  True  True  True]\n"
     ]
    }
   ],
   "source": [
    "def chi2_contingency(sets, mode=\"average\", bins=None):\n",
    "    \"\"\"\n",
    "    Synopsis: Faire le test st.chi2_contingency pour les memes attributs des deux ensembles\n",
    "    - sets: 2 sets à tester\n",
    "    - mode: average ou percentile\n",
    "    \"\"\"\n",
    "    res = []\n",
    "    for attribut in range(0, 4):\n",
    "        h_contingency = contingency_2sets(sets, attribut, mode, bins)\n",
    "        h_qtest = st.chi2_contingency(h_contingency)\n",
    "        res = np.hstack((res, h_qtest[1]))\n",
    "    return res\n",
    "        \n",
    "print(\"H0: chaque variété iris a le meme proportion d'observations pour chaque attribut. True: accept à 5%\")\n",
    "\n",
    "h_bins = [2.0, 2.3, 2.6, 2.6, 2.9, 3.2, 3.5, 3.8]\n",
    "h_qtests = chi2_contingency((virginica, versicolor), bins=h_bins)\n",
    "h_qtests_avg = chi2_contingency((virginica, versicolor), \"average\")\n",
    "h_qtests_percentile = chi2_contingency((virginica, versicolor), \"percentile\")\n",
    "\n",
    "h_qtests2 = chi2_contingence_manuel((virginica, versicolor), test_mode=1)\n",
    "\n",
    "print(\"[sepal_length, sepal width, petal_length, petal_width]\")\n",
    "\n",
    "print(\"Test manuel: \", h_qtests2[1] > 0.05)\n",
    "\n",
    "print(\"Test avec bins: \", h_qtests > 0.05)\n",
    "print(\"Test avec les moyennes: \", h_qtests_avg > 0.05)\n",
    "print(\"Test avec les quartiles: \", h_qtests_percentile > 0.05)\n"
   ]
  },
  {
   "cell_type": "markdown",
   "metadata": {},
   "source": [
    "## Test d'adéquation de Kolmogorov-Smirnov"
   ]
  },
  {
   "cell_type": "markdown",
   "metadata": {},
   "source": [
    "Reprenez les tests d'adéquation du TP précédent mais avec le test de Kolmogorov-Smirnov. Comparez vos réponses."
   ]
  },
  {
   "cell_type": "code",
   "execution_count": 19,
   "metadata": {},
   "outputs": [
    {
     "name": "stdout",
     "output_type": "stream",
     "text": [
      "H0: Les mesures de l'échantillon sont adéquates à la distribution normale\n",
      "[sepal_length, sepal width, petal_length, petal_width]\n",
      "[0.11558941 0.12754622 0.1159698  0.12321555]\n",
      "[ True  True  True  True]\n",
      "[0.11381791 0.11395056 0.15699544 0.34077461]\n",
      "[ True  True  True False]\n",
      "[0.09790719 0.12220365 0.11827503 0.14717096]\n",
      "[ True  True  True  True]\n",
      "[0.0894544  0.10305478 0.19913534 0.17314802]\n",
      "[ True  True False False]\n"
     ]
    }
   ],
   "source": [
    "def kstest(data):\n",
    "    \"\"\"\n",
    "    Synopsis: Faire le test Kolmogorov-Smirnov sur chaque attribut simultanément\n",
    "    \"\"\"\n",
    "    pvalues = []\n",
    "    stats = []\n",
    "    for attribut in range(0, 4):\n",
    "        sample = data[:, attribut]\n",
    "        test = st.kstest(sample, \"norm\", args = (np.mean(sample), np.std(sample)))\n",
    "        pvalues = np.hstack((pvalues, test.pvalue))\n",
    "        stats = np.hstack((stats, test.statistic))\n",
    "        \n",
    "    print(stats)\n",
    "    return pvalues\n",
    "\n",
    "print(\"H0: Les mesures de l'échantillon sont adéquates à la distribution normale\")\n",
    "print(\"[sepal_length, sepal width, petal_length, petal_width]\")\n",
    "ks_virginica = kstest(virginica)\n",
    "print(ks_virginica > 0.05)\n",
    "\n",
    "ks_setosa = kstest(setosa)\n",
    "print(ks_setosa > 0.05)\n",
    "\n",
    "ks_versicolor = kstest(versicolor)\n",
    "print(ks_versicolor > 0.05)\n",
    "\n",
    "ks_tous = kstest(tous)\n",
    "print(ks_tous > 0.05)\n"
   ]
  },
  {
   "cell_type": "markdown",
   "metadata": {},
   "source": [
    "+ Reprenez votre tableau contenant les largeurs des sépales de la variété `versicolor` et ** ordonnez-le ** (`numpy.sort`).\n",
    "+ Calculez la moyenne $m$ et l'écart-type $s$ de cet échantillon. Vous allez tester l'adéquation de votre échantillon à la loi normale de moyenne $m$ et d'écart-type $s$.\n",
    "+ Transformez votre échantillon pour qu'il soit centré-réduit (sous l'hypothèse $H_0$), calculez le tableau des fréquences cumulées pour la loi normale.\n",
    "+ Générez les tableaux des $\\frac{i}{n}$ et $\\frac{i-1}{n}$, puis calculez les écarts.\n",
    "+ Déduisez-en la statistique du test (`numpy.max`) puis retrouvez cette statistique avec la fonction `kstest`.\n",
    "+ Concluez."
   ]
  },
  {
   "cell_type": "code",
   "execution_count": 20,
   "metadata": {},
   "outputs": [
    {
     "name": "stdout",
     "output_type": "stream",
     "text": [
      "H0: Les mesures de l'échantillon sont adéquates à la distribution normale\n",
      "[sepal_length, sepal width, petal_length, petal_width]\n",
      "[0.11558941 0.12754622 0.1159698  0.12321555]\n",
      "[ True  True  True  True]\n",
      "[0.11381791 0.11395056 0.15699544 0.34077461]\n",
      "[ True  True  True  True]\n",
      "[0.09790719 0.12220365 0.11827503 0.14717096]\n",
      "[ True  True  True  True]\n",
      "[0.0894544  0.10305478 0.19913534 0.17314802]\n",
      "[ True  True  True  True]\n"
     ]
    }
   ],
   "source": [
    "def kolmogorov_smirnov(data):\n",
    "    \n",
    "    stats = []\n",
    "    pvalues = []\n",
    "    \n",
    "    for attribute in range(0, 4):\n",
    "        sortedData = np.sort(data[:, attribute])\n",
    "\n",
    "        mean = np.mean(sortedData)\n",
    "        std = np.std(sortedData)\n",
    "\n",
    "        centercut = (sortedData - mean)/std\n",
    "        \n",
    "        nobs = centercut.size\n",
    "        freqc = np.array([st.norm.cdf(centercut[i]) for i in range(0,nobs)])\n",
    "        i_n = [i/nobs for i in range(1,nobs+1)]\n",
    "        i_1_n = [(i-1)/nobs for i in range(1,nobs+1)]\n",
    "        ecarts_i = np.abs(freqc - i_n) \n",
    "        ecarts_i_1 = np.abs(freqc - i_1_n)\n",
    "        \n",
    "        stat = np.max(np.concatenate((ecarts_i,ecarts_i_1)))\n",
    "        \n",
    "        pvalue = st.norm.sf(stat, mean, std)\n",
    "        \n",
    "        stats = np.hstack((stats, stat))\n",
    "        pvalues = np.hstack((pvalues, pvalue))\n",
    "        \n",
    "    print(stats)\n",
    "    \n",
    "    return pvalues\n",
    "\n",
    "print(\"H0: Les mesures de l'échantillon sont adéquates à la distribution normale\")\n",
    "print(\"[sepal_length, sepal width, petal_length, petal_width]\")\n",
    "ks_virginica2 = kolmogorov_smirnov(virginica)\n",
    "print(ks_virginica2 > 0.05)\n",
    "\n",
    "ks_setosa2 = kolmogorov_smirnov(setosa)\n",
    "print(ks_setosa2 > 0.05)\n",
    "\n",
    "ks_versicolor2 = kolmogorov_smirnov(versicolor)\n",
    "print(ks_versicolor2 > 0.05)\n",
    "\n",
    "ks_total2 = kolmogorov_smirnov(tous)\n",
    "print(ks_total2 > 0.05)\n",
    "        "
   ]
  },
  {
   "cell_type": "markdown",
   "metadata": {},
   "source": [
    "## Synthèse - Conclusions (facultatif)"
   ]
  },
  {
   "cell_type": "markdown",
   "metadata": {},
   "source": [
    "Reprenez toute l'étude précédente, à l'envers :\n",
    "\n",
    "+ Testez la normalité de la largeur des pétales, globalement puis pour la variété \"virginica\". Comparez les résutalts du test du $\\chi^2$ et du test de Kolmogorov-Smirnov\n",
    "+ La largeur moyenne des pétales de \"virginica\" est-elle significativement différentes de celle de l'espèce ?\n",
    "+ La largeur des pétales est-elle indépendante de leur longueur ?\n",
    "+ Sur l'attribut largeur des sépales, peut-on conclure que les échantillons \"setosa\" et \"versicolor\" sont différent ?"
   ]
  },
  {
   "cell_type": "markdown",
   "metadata": {},
   "source": [
    "Travail déjà réalisé"
   ]
  },
  {
   "cell_type": "markdown",
   "metadata": {},
   "source": [
    "# Expression libre (facultatif)"
   ]
  },
  {
   "cell_type": "markdown",
   "metadata": {},
   "source": [
    "Effectuez d'autres tests du même genre que les précédents"
   ]
  },
  {
   "cell_type": "code",
   "execution_count": null,
   "metadata": {},
   "outputs": [],
   "source": []
  }
 ],
 "metadata": {
  "kernelspec": {
   "display_name": "Python 3",
   "language": "python",
   "name": "python3"
  },
  "language_info": {
   "codemirror_mode": {
    "name": "ipython",
    "version": 3
   },
   "file_extension": ".py",
   "mimetype": "text/x-python",
   "name": "python",
   "nbconvert_exporter": "python",
   "pygments_lexer": "ipython3",
   "version": "3.7.0"
  },
  "toc": {
   "base_numbering": 1,
   "nav_menu": {},
   "number_sections": true,
   "sideBar": true,
   "skip_h1_title": true,
   "title_cell": "Table of Contents",
   "title_sidebar": "Contents",
   "toc_cell": true,
   "toc_position": {},
   "toc_section_display": true,
   "toc_window_display": false
  }
 },
 "nbformat": 4,
 "nbformat_minor": 2
}
